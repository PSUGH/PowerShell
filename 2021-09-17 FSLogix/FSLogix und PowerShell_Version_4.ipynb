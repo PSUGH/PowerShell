{
 "cells": [
  {
   "cell_type": "markdown",
   "source": [
    "# FSLogix AppMasking mit PowerShell\r\n",
    "## Andreas Nick 2021\r\n",
    "\r\n",
    "Basis für diese Seite ist Visual Studio Code mit dem Interactiven Notebook und der Erweiterung Jupyter\r\n",
    "\r\n",
    "## Quellen\r\n",
    "\r\n",
    ">1. [VisualStudio Code](https://code.visualstudio.com/)\r\n",
    ">2. Visual Studio Code Erweiterung: [.NET Interactive Notebooks](https://marketplace.visualstudio.com/items?itemName=ms-dotnettools.dotnet-interactive-vscode)\r\n",
    ">3. Visual Studio Code Erweiterung: [Jupyter](https://marketplace.visualstudio.com/items?itemName=ms-toolsai.jupyter)\r\n",
    ">4. .NET 5 SDK (x86): [.NET 5](https://dotnet.microsoft.com/download/dotnet/5.0)\r\n",
    ">5. FSlogix [FSLogix](https://aka.ms/fslogix/download)"
   ],
   "metadata": {}
  },
  {
   "cell_type": "code",
   "execution_count": null,
   "source": [
    "#Download FSLogix\r\n",
    "Invoke-WebRequest -Uri https://aka.ms/fslogix/download -OutFile \"$ENV:USERPROFILE\\Desktop\\FSLogixApps.zip\" "
   ],
   "outputs": [],
   "metadata": {
    "dotnet_interactive": {
     "language": "pwsh"
    }
   }
  },
  {
   "cell_type": "markdown",
   "source": [
    "## Installieren\r\n",
    "Aus dem Archiv FSLogixApps die Elemente FSLogixAppsRuleEditorSetup.exe und FSLogixAppsSetup.exe installieren"
   ],
   "metadata": {}
  },
  {
   "cell_type": "markdown",
   "source": [
    "## Einige Pakete zum Testen"
   ],
   "metadata": {}
  },
  {
   "cell_type": "code",
   "execution_count": null,
   "source": [
    "#App-V Macht etwas Probleme Enable-AppV\r\n",
    "& powershell.exe -Command {Enable-AppV}\r\n",
    "& powershell.exe -Command {Get-ChildItem C:\\temp\\AppVPakete_2021\\*.appv -Recurse| Add-AppVClientPackage | Publish-AppVClientPackage -Global}\r\n",
    "#& powershell.exe -Command {Get-AppvClientPackage | unpublish-AppVClientPackage -global}"
   ],
   "outputs": [],
   "metadata": {
    "dotnet_interactive": {
     "language": "pwsh"
    }
   }
  },
  {
   "cell_type": "markdown",
   "source": [
    "## Basis Modul - FSLogix"
   ],
   "metadata": {}
  },
  {
   "cell_type": "code",
   "execution_count": null,
   "source": [
    "Install-Module -Name FSLogix.PowerShell.Rules -Scope CurrentUser -Confirm:$false -Force\r\n",
    "Import-Module -Name FSLogix.PowerShell.Rules\r\n",
    "Get-Command -Module FSLogix.PowerShell.Rules"
   ],
   "outputs": [],
   "metadata": {
    "dotnet_interactive": {
     "language": "pwsh"
    }
   }
  },
  {
   "cell_type": "markdown",
   "source": [
    "\r\n",
    "## FSLogix Rule Module Befehlsübersicht\r\n",
    "\r\n",
    "| CommandType |         Name         |\r\n",
    "| :---------: | :------------------: |\r\n",
    "|  Function   |  Add-FslAssignment   |\r\n",
    "|  Function   |     Add-FslRule      |\r\n",
    "|  Function   | Compare-FslFilePath  |\r\n",
    "|  Function   | Compare-FslRuleFile  |\r\n",
    "|  Function   |  Get-FslAssignment   |\r\n",
    "|  Function   |  Get-FslLicenseDay   |\r\n",
    "|  Function   |     Get-FslRule      |\r\n",
    "|  Function   | Remove-FslAssignment |\r\n",
    "|  Function   |    Remove-FslRule    |\r\n",
    "|  Function   |  Set-FslAssignment   |\r\n",
    "|  Function   |  Set-FslLicenseDay   |\r\n",
    "|  Function   |     Set-FslRule      |"
   ],
   "metadata": {}
  },
  {
   "cell_type": "markdown",
   "source": [
    "## Es wird Zeit, etwas aufzuräumen"
   ],
   "metadata": {}
  },
  {
   "cell_type": "code",
   "execution_count": null,
   "source": [
    "Import-Module -Name FSLogix.PowerShell.Rules\r\n",
    "$FSRulePath = \"C:\\Program Files\\FSLogix\\Apps\\Rules\\\""
   ],
   "outputs": [],
   "metadata": {
    "dotnet_interactive": {
     "language": "pwsh"
    }
   }
  },
  {
   "cell_type": "code",
   "execution_count": null,
   "source": [
    "Import-Module -Name FSLogix.PowerShell.Rules\r\n",
    "$FSRulePath = \"C:\\Program Files\\FSLogix\\Apps\\Rules\\\"\r\n",
    "\r\n",
    "# Die FRX Datei enthält ein Regelwerg\r\n",
    "#Set überschreibt die Datei oder legt eine neue Datei an\r\n",
    "Set-FslRule -Path \"$FSRulePath\\Desktop.fxr\" -FullName \"C:\\Users\\Public\\desktop\" -HidingType FolderOrKey \r\n",
    "\r\n",
    "# Die FRA Datei die Berechtigungen\r\n",
    "Set-FslAssignment  -Path \"$FSRulePath\\Desktop.fxa\" -UserName 'Administrator' -RuleSetApplies:$true"
   ],
   "outputs": [],
   "metadata": {
    "dotnet_interactive": {
     "language": "pwsh"
    }
   }
  },
  {
   "cell_type": "markdown",
   "source": [
    "## Etwas mehr aufräumen?"
   ],
   "metadata": {}
  },
  {
   "cell_type": "code",
   "execution_count": null,
   "source": [
    "#Add fügt einen Eintrag hinzu\r\n",
    "Add-FslRule -Path \"$FSRulePath\\Desktop.fxr\" -FullName \"$ENV:USERPROFILE\\Desktop\" -HidingType FolderOrKey "
   ],
   "outputs": [],
   "metadata": {
    "dotnet_interactive": {
     "language": "pwsh"
    }
   }
  },
  {
   "cell_type": "markdown",
   "source": [
    "## Oder vielleicht doch nicht?"
   ],
   "metadata": {}
  },
  {
   "cell_type": "code",
   "execution_count": null,
   "source": [
    "#Set-FslAssignment  -Path \"$FSRulePath\\Desktop.fxa\" -UserName 'Administrator' -RuleSetApplies:$false\r\n",
    "#Netz-Weise\r\n",
    "Add-FslAssignment  -Path \"$FSRulePath\\Desktop.fxa\" -UserName 'Student' -RuleSetApplies:$false"
   ],
   "outputs": [],
   "metadata": {
    "dotnet_interactive": {
     "language": "pwsh"
    }
   }
  },
  {
   "cell_type": "code",
   "execution_count": null,
   "source": [
    "# App im Startmenü verstecken\r\n",
    "\r\n",
    "if(Test-Path  \"$FSRulePath\\AdminTools.fxr\") {Remove-Item \"$FSRulePath\\AdminTools.fxr\"}\r\n",
    "Get-ChildItem \"$env:ALLUSERSPROFILE\\Microsoft\\Windows\\Start Menu\\Programs\\Administrative Tools\\*.lnk\" -Recurse | Foreach-Object {Add-FslRule -Path \"$FSRulePath\\AdminTools.fxr\" -FullName \"$_\" -HidingType FileOrValue}\r\n",
    "\r\n",
    "#Set-FslRule -Path \"$FSRulePath\\AdminTools.fxr\" -FullName 'C:\\ProgramData\\Microsoft\\Windows\\Start Menu\\Programs\\Administrative Tools\\Component Services.lnk' -HidingType FileOrValue\r\n",
    "\r\n"
   ],
   "outputs": [],
   "metadata": {
    "dotnet_interactive": {
     "language": "pwsh"
    }
   }
  },
  {
   "cell_type": "code",
   "execution_count": null,
   "source": [
    "#Und einschalten\r\n",
    "#Set-FslAssignment  -Path \"$FSRulePath\\AdminTools.fxa\" -UserName 'Administrator' -RuleSetApplies:$true\r\n",
    "Set-FslAssignment  -Path \"$FSRulePath\\AdminTools.fxa\" -UserName 'Student' -RuleSetApplies:$true\r\n",
    "#Das Ganze funktioniert natürlich auch für weitere Gruppen. Dann hier beispielsweise mit Add-FSLAssignment eine weitere Gruppe einfügen\r\n",
    "#Add-FslAssignment  -Path \"$FSRulePath\\AdminTools.fxa\" -UserName 'Benutzer' -RuleSetApplies:$true\r\n",
    "Add-FslAssignment  -Path \"$FSRulePath\\AdminTools.fxa\" -UserName 'Users' -RuleSetApplies:$true"
   ],
   "outputs": [],
   "metadata": {
    "dotnet_interactive": {
     "language": "pwsh"
    }
   }
  },
  {
   "cell_type": "code",
   "execution_count": null,
   "source": [
    "# Last Write wins!\r\n",
    "Add-FslAssignment  -Path \"$FSRulePath\\AdminTools.fxa\" -UserName 'Administrator' -RuleSetApplies:$false\r\n",
    "Add-FslAssignment  -Path \"$FSRulePath\\AdminTools.fxa\" -UserName 'Student' -RuleSetApplies:$false"
   ],
   "outputs": [],
   "metadata": {
    "dotnet_interactive": {
     "language": "pwsh"
    }
   }
  },
  {
   "cell_type": "markdown",
   "source": [
    "## Und noch einen Ordner und einen RegKey verschwinden lassen"
   ],
   "metadata": {}
  },
  {
   "cell_type": "code",
   "execution_count": null,
   "source": [
    "Set-FslRule -Path \"$FSRulePath\\Folder.fxr\" -FullName \"C:\\temp\\AppVPakete_2021\" -HidingType FolderOrKey\r\n",
    "Add-FslRule -Path \"$FSRulePath\\Folder.fxr\" -FullName \"HKEY_LOCAL_MACHINE\\SOFTWARE\\Mozilla\" -HidingType FolderOrKey\r\n",
    "#Netz-Weise\r\n",
    "Add-FslAssignment  -Path \"$FSRulePath\\Folder.fxa\" -UserName 'Student' -RuleSetApplies:$true"
   ],
   "outputs": [],
   "metadata": {
    "dotnet_interactive": {
     "language": "pwsh"
    }
   }
  },
  {
   "cell_type": "code",
   "execution_count": null,
   "source": [
    "#Und wieder Da - diesmal anders\r\n",
    "remove-Item \"$FSRulePath\\Folder.fxr\"\r\n",
    "Remove-Item \"$FSRulePath\\Folder.fxa\" "
   ],
   "outputs": [],
   "metadata": {
    "dotnet_interactive": {
     "language": "pwsh"
    }
   }
  },
  {
   "cell_type": "markdown",
   "source": [
    "## Andere Möglichkeiten\r\n",
    "Eine der wichtigsten Funktionen ist das Verstecken von Registrierungsschlüsseln, Ordnern und Dateien\r\n",
    "FSLogix Regeln können aber noch mehr:\r\n",
    "- Umleiten von Dateien und Ordnern\r\n",
    "- "
   ],
   "metadata": {}
  },
  {
   "cell_type": "markdown",
   "source": [
    "## Umleiten in VHD"
   ],
   "metadata": {}
  },
  {
   "cell_type": "code",
   "execution_count": null,
   "source": [
    "#Wenn Hyper-V installiert ist\r\n",
    "New-VHD -Path c:\\temp\\Base.vhdx -SizeBytes 1GB"
   ],
   "outputs": [],
   "metadata": {
    "dotnet_interactive": {
     "language": "pwsh"
    }
   }
  },
  {
   "cell_type": "code",
   "execution_count": null,
   "source": [
    "Add-FslRule -Path \"$FSRulePath\\ToVHD.fxr\" -DiskFile \"c:\\temp\\Base.vhdx\" -FullName \"$env:USERSPROFILE\\Favorites\" "
   ],
   "outputs": [],
   "metadata": {
    "dotnet_interactive": {
     "language": "pwsh"
    }
   }
  },
  {
   "cell_type": "code",
   "execution_count": null,
   "source": [
    "# Order Umleitung\r\n",
    "if(-not (Test-Path 'c:\\Temp\\RedFolder')) {New-Item 'c:\\Temp\\RedFolder' -ItemType Directory -Force}\r\n",
    "Set-FslRule -Path \"$FSRulePath\\redirect.fxr\"  -FullName \"$env:USERPROFILE\\Favorites\\\"  -RedirectType FolderOrKey -RedirectDestPath \"c:\\Temp\\RedFolder\" -CopyObject\r\n",
    "Set-FslAssignment -Path \"$FSRulePath\\redirect.fxa\" -UserName 'Student' -RuleSetApplies:$true\r\n"
   ],
   "outputs": [],
   "metadata": {
    "dotnet_interactive": {
     "language": "pwsh"
    }
   }
  },
  {
   "cell_type": "markdown",
   "source": [
    "## Cleanup"
   ],
   "metadata": {}
  },
  {
   "cell_type": "code",
   "execution_count": null,
   "source": [
    "Get-ChildItem \"$FSRulePath\" | % {Remove-Item $_ }\r\n",
    "& powershell.exe -Command {Get-AppVclientPackage | Unpublish-AppvclientPackage -Global}\r\n",
    "& powershell.exe -Command {Get-AppVclientPackage -all | Remove-AppVClientPackage}"
   ],
   "outputs": [
    {
     "output_type": "stream",
     "name": "stdout",
     "text": [
      "\r\n",
      "PackageId            : 0d981e00-6be8-4d9e-85a8-320b3660770d\r\n",
      "VersionId            : 4872e878-8022-478a-92a1-e904e3f67b32\r\n",
      "Name                 : Greenshot_x86_German_1.2.10.6\r\n",
      "Version              : 0.0.0.1\r\n",
      "IsPublishedToUser    : False\r\n",
      "UserPending          : False\r\n",
      "IsPublishedGlobally  : False\r\n",
      "GlobalPending        : False\r\n",
      "InUse                : False\r\n",
      "InUseByCurrentUser   : False\r\n",
      "HasAssetIntelligence : True\r\n",
      "\r\n",
      "PackageId            : 00b87000-1edc-46a6-93ea-f3a5af851ef1\r\n",
      "VersionId            : 440b145d-ae46-4881-a5a3-0c115b80a783\r\n",
      "Name                 : sqavw13_wxp_de\r\n",
      "Version              : 0.0.0.1\r\n",
      "IsPublishedToUser    : False\r\n",
      "UserPending          : False\r\n",
      "IsPublishedGlobally  : False\r\n",
      "GlobalPending        : False\r\n",
      "InUse                : False\r\n",
      "InUseByCurrentUser   : False\r\n",
      "HasAssetIntelligence : True\r\n",
      "\r\n",
      "PackageId            : 48927726-3a0c-4fcc-8c73-5f9b8856cf9d\r\n",
      "VersionId            : 9891af64-fed9-457c-87cd-0a9d750e2aca\r\n",
      "Name                 : PaintDotNet_x64_4.216.7781.39227\r\n",
      "Version              : 0.0.0.1\r\n",
      "IsPublishedToUser    : False\r\n",
      "UserPending          : False\r\n",
      "IsPublishedGlobally  : False\r\n",
      "GlobalPending        : False\r\n",
      "InUse                : False\r\n",
      "InUseByCurrentUser   : False\r\n",
      "HasAssetIntelligence : True\r\n",
      "\r\n",
      "PackageId            : 5f43213b-d093-4195-abcd-b0e114070ba9\r\n",
      "VersionId            : eeed4808-173e-45cf-80a3-d9c3a89ca520\r\n",
      "Name                 : KeePass_x86_German_2.49\r\n",
      "Version              : 0.0.0.6\r\n",
      "IsPublishedToUser    : False\r\n",
      "UserPending          : False\r\n",
      "IsPublishedGlobally  : False\r\n",
      "GlobalPending        : False\r\n",
      "InUse                : False\r\n",
      "InUseByCurrentUser   : False\r\n",
      "HasAssetIntelligence : True\r\n",
      "\r\n",
      "PackageId            : ad70944e-fb4f-482e-8dce-c0f0994c996d\r\n",
      "VersionId            : a187903f-d746-41fb-86c3-961400d66459\r\n",
      "Name                 : dotPeek_x64_2019\r\n",
      "Version              : 0.0.0.1\r\n",
      "IsPublishedToUser    : False\r\n",
      "UserPending          : False\r\n",
      "IsPublishedGlobally  : False\r\n",
      "GlobalPending        : False\r\n",
      "InUse                : False\r\n",
      "InUseByCurrentUser   : False\r\n",
      "HasAssetIntelligence : True\r\n",
      "\r\n",
      "PackageId            : 4940c350-124b-4e14-982b-0908253a6d69\r\n",
      "VersionId            : ad3afe4c-0b8c-46b6-a421-554f154b921b\r\n",
      "Name                 : IgelUms_x64_6.06.100\r\n",
      "Version              : 0.0.0.4\r\n",
      "IsPublishedToUser    : False\r\n",
      "UserPending          : False\r\n",
      "IsPublishedGlobally  : False\r\n",
      "GlobalPending        : False\r\n",
      "InUse                : False\r\n",
      "InUseByCurrentUser   : False\r\n",
      "HasAssetIntelligence : True\r\n",
      "\r\n",
      "PackageId            : e43d5367-17b1-4917-8aac-10cd17bb207b\r\n",
      "VersionId            : a2e39f26-6f3b-42a9-b893-1cd07aec3c34\r\n",
      "Name                 : 7Zip_x64_19.00\r\n",
      "Version              : 0.0.0.1\r\n",
      "IsPublishedToUser    : False\r\n",
      "UserPending          : False\r\n",
      "IsPublishedGlobally  : False\r\n",
      "GlobalPending        : False\r\n",
      "InUse                : False\r\n",
      "InUseByCurrentUser   : False\r\n",
      "HasAssetIntelligence : True\r\n",
      "\r\n",
      "PackageId            : c8316a88-761f-4b1c-b010-8f6947097307\r\n",
      "VersionId            : 78cc18b7-f694-4a4c-a318-e41fc8bf5d7a\r\n",
      "Name                 : FreeAppDeployRepackager\r\n",
      "Version              : 0.0.0.1\r\n",
      "IsPublishedToUser    : False\r\n",
      "UserPending          : False\r\n",
      "IsPublishedGlobally  : False\r\n",
      "GlobalPending        : False\r\n",
      "InUse                : False\r\n",
      "InUseByCurrentUser   : False\r\n",
      "HasAssetIntelligence : True\r\n",
      "\r\n",
      "PackageId            : a6bdf4aa-1288-444a-9178-b7629434f9f6\r\n",
      "VersionId            : 09a16027-f431-4d0b-90d7-cec6029af157\r\n",
      "Name                 : JamTreeSizeFree_x86_4.50\r\n",
      "Version              : 0.0.0.2\r\n",
      "IsPublishedToUser    : False\r\n",
      "UserPending          : False\r\n",
      "IsPublishedGlobally  : False\r\n",
      "GlobalPending        : False\r\n",
      "InUse                : False\r\n",
      "InUseByCurrentUser   : False\r\n",
      "HasAssetIntelligence : True\r\n",
      "\r\n",
      "PackageId            : baad19ad-aa06-48ef-b213-3822c295e4fc\r\n",
      "VersionId            : 65a69d01-6268-4d6d-922f-53f987d18298\r\n",
      "Name                 : mRemoteNG_x86_1.76.20\r\n",
      "Version              : 0.0.0.1\r\n",
      "IsPublishedToUser    : False\r\n",
      "UserPending          : False\r\n",
      "IsPublishedGlobally  : False\r\n",
      "GlobalPending        : False\r\n",
      "InUse                : False\r\n",
      "InUseByCurrentUser   : False\r\n",
      "HasAssetIntelligence : True\r\n",
      "\r\n",
      "PackageId            : 24597fb0-ffd7-422f-bc15-de682f3ba052\r\n",
      "VersionId            : 97ac84ec-c154-4889-9dd5-db7dca518332\r\n",
      "Name                 : Inkscape_x64_1.1\r\n",
      "Version              : 0.0.0.3\r\n",
      "IsPublishedToUser    : False\r\n",
      "UserPending          : False\r\n",
      "IsPublishedGlobally  : False\r\n",
      "GlobalPending        : False\r\n",
      "InUse                : False\r\n",
      "InUseByCurrentUser   : False\r\n",
      "HasAssetIntelligence : True\r\n",
      "\r\n",
      "PackageId            : 804b99c4-c4ea-4b91-a45b-0b744c266417\r\n",
      "VersionId            : 362c130f-78f2-4938-b7d7-e392ef375ceb\r\n",
      "Name                 : VLC_x64_3.0.16\r\n",
      "Version              : 0.0.0.4\r\n",
      "IsPublishedToUser    : False\r\n",
      "UserPending          : False\r\n",
      "IsPublishedGlobally  : False\r\n",
      "GlobalPending        : False\r\n",
      "InUse                : False\r\n",
      "InUseByCurrentUser   : False\r\n",
      "HasAssetIntelligence : True\r\n",
      "\r\n",
      "\r\n",
      "\u001b[91mpowershell.exe: \r\n",
      "\u001b[96mLine |\r\n",
      "\u001b[96m   3 | \u001b[0m \u001b[96m& powershell.exe -Command {Get-AppVclientPackage -all | Remove-AppVCl\u001b[0m …\r\n",
      "\u001b[96m     | \u001b[91m ~~~~~~~~~~~~~~~~~~~~~~~~~~~~~~~~~~~~~~~~~~~~~~~~~~~~~~~~~~~~~~~~~~~~~\r\n",
      "\u001b[91m\u001b[96m     | \u001b[91mDer angeforderte Vorgang konnte im Application Virtualization-Dienst nicht durchgef�hrt werden. \r\n",
      "Vorgang versucht: AppV-Paket entfernen. \r\n",
      "AppV-Fehlercode: 0C8007012F. \r\n",
      "Fehler - Modul: Streaming Manager. Details zum internen Fehler: 74F0110C8007012F. \r\n",
      "Weitere Informationen finden Sie im AppV Client-Ereignisprotokoll.\u001b[0m\r\n",
      "\r\n"
     ]
    }
   ],
   "metadata": {
    "dotnet_interactive": {
     "language": "pwsh"
    }
   }
  }
 ],
 "metadata": {
  "orig_nbformat": 4,
  "language_info": {
   "file_extension": ".cs",
   "mimetype": "text/x-csharp",
   "name": "C#",
   "pygments_lexer": "csharp",
   "version": "9.0"
  },
  "kernelspec": {
   "display_name": ".NET (C#)",
   "language": "C#",
   "name": ".net-csharp"
  }
 },
 "nbformat": 4,
 "nbformat_minor": 2
}