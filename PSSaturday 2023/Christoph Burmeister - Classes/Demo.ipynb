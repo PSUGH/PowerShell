{
 "cells": [
  {
   "cell_type": "markdown",
   "metadata": {},
   "source": [
    "# PowerShell Classes"
   ]
  },
  {
   "cell_type": "code",
   "execution_count": 87,
   "metadata": {},
   "outputs": [
    {
     "name": "stdout",
     "output_type": "stream",
     "text": []
    }
   ],
   "source": [
    "Class Session {\n",
    "    [string]$name\n",
    "    [string]$Speaker\n",
    "    [string]$Occupation\n",
    "    [string]$Honors\n",
    "    [string]$Event\n",
    "    [string]$Location\n",
    "    [string]$Year\n",
    "    [string]$Hosted_by\n",
    "\n",
    "    Session ($Name, $Speaker, $Occupation, $Honors, $Event, $Location, $Year, $Hosted_by) {\n",
    "        $this.Year = $Year\n",
    "        $this.Location = $Location\n",
    "        $this.Event = $Event\n",
    "        $this.Speaker = $Speaker\n",
    "        $this.Name = $Name\n",
    "        $this.Hosted_by = $Hosted_by\n",
    "        $this.Occupation = $Occupation\n",
    "        $this.Honors = $Honors\n",
    "    }\n",
    "\n",
    "    [void]welcome () {\n",
    "        Write-Host \"Welcome to an Introduction of PowerShell Classes!\"\n",
    "    }\n",
    "}"
   ]
  },
  {
   "cell_type": "code",
   "execution_count": 88,
   "metadata": {},
   "outputs": [
    {
     "name": "stdout",
     "output_type": "stream",
     "text": [
      "Welcome to an Introduction of PowerShell Classes!\n",
      "\n",
      "name       : PowerShell Classes\n",
      "Speaker    : Christoph Burmeister\n",
      "Occupation : Principal Solutions Architect\n",
      "Honors     : Microsoft MVP\n",
      "Event      : PS Saturday\n",
      "Location   : Hannover\n",
      "Year       : 2023\n",
      "Hosted_by  : PSUGH\n",
      "\n",
      "\n"
     ]
    }
   ],
   "source": [
    "$session = [Session]::new(\"PowerShell Classes\", \"Christoph Burmeister\", \"Principal Solutions Architect\", \"Microsoft MVP\", \"PS Saturday\", \"Hannover\", \"2023\", \"PSUGH\" )\n",
    "$session.welcome()\n",
    "\n",
    "Write-Output $session"
   ]
  },
  {
   "cell_type": "markdown",
   "metadata": {},
   "source": [
    "### Socials\n",
    "x.com/chrburmeister<br>\n",
    "x.com/hhpsug<br>\n",
    "linkedin.com/in/chrburmeister"
   ]
  },
  {
   "cell_type": "markdown",
   "metadata": {},
   "source": [
    "# There will be no Slides!"
   ]
  },
  {
   "cell_type": "markdown",
   "metadata": {},
   "source": [
    "# Questions? Just ask! ;)"
   ]
  },
  {
   "cell_type": "markdown",
   "metadata": {},
   "source": [
    "# Lets Start!"
   ]
  },
  {
   "cell_type": "markdown",
   "metadata": {},
   "source": [
    "### Quick Detour"
   ]
  },
  {
   "cell_type": "markdown",
   "metadata": {},
   "source": [
    "# Classes!"
   ]
  },
  {
   "cell_type": "markdown",
   "metadata": {},
   "source": [
    "- blueprints for creating custom objects with properties and methods\n",
    "- introduced in PowerShell 5\n",
    "- brought to PS to simplify creation of DSC resources\n",
    "- different than `pscustomobject`"
   ]
  },
  {
   "cell_type": "code",
   "execution_count": 89,
   "metadata": {},
   "outputs": [
    {
     "name": "stdout",
     "output_type": "stream",
     "text": [
      "@{foo=bar}\n",
      "\n",
      "\n",
      "   TypeName: System.Management.Automation.PSCustomObject\n",
      "\n",
      "Name        MemberType   Definition\n",
      "----        ----------   ----------\n",
      "Equals      Method       bool Equals(System.Object obj)\n",
      "GetHashCode Method       int GetHashCode()\n",
      "GetType     Method       type GetType()\n",
      "ToString    Method       string ToString()\n",
      "foo         NoteProperty string foo=bar\n",
      "\n"
     ]
    }
   ],
   "source": [
    "$obj = [pscustomobject]@{\n",
    "    \"foo\" = \"bar\"\n",
    "}\n",
    "\n",
    "Write-Host $obj\n",
    "\n",
    "$obj | Get-Member"
   ]
  },
  {
   "cell_type": "markdown",
   "metadata": {},
   "source": [
    "- enabling object-oriented programming (OOP)\n",
    "- Encapsulation\n",
    "- Inheritance\n",
    "- DRY\n",
    "- code sharing"
   ]
  },
  {
   "cell_type": "markdown",
   "metadata": {},
   "source": [
    "# Classes Basics"
   ]
  },
  {
   "cell_type": "code",
   "execution_count": 90,
   "metadata": {},
   "outputs": [
    {
     "name": "stdout",
     "output_type": "stream",
     "text": []
    }
   ],
   "source": [
    "Class Car {\n",
    "    [string]$brand\n",
    "    [string]$model\n",
    "    [System.DateTime]$production_date\n",
    "}"
   ]
  },
  {
   "cell_type": "code",
   "execution_count": 91,
   "metadata": {},
   "outputs": [
    {
     "name": "stdout",
     "output_type": "stream",
     "text": [
      "\n",
      "brand model production_date\n",
      "----- ----- ---------------\n",
      "            01/01/0001 00:00:00\n",
      "\n"
     ]
    }
   ],
   "source": [
    "[Car]::new()"
   ]
  },
  {
   "cell_type": "markdown",
   "metadata": {},
   "source": [
    "instantiate class"
   ]
  },
  {
   "cell_type": "code",
   "execution_count": 92,
   "metadata": {},
   "outputs": [
    {
     "name": "stdout",
     "output_type": "stream",
     "text": []
    }
   ],
   "source": [
    "$car = [Car]::new()"
   ]
  },
  {
   "cell_type": "code",
   "execution_count": 93,
   "metadata": {},
   "outputs": [
    {
     "name": "stdout",
     "output_type": "stream",
     "text": [
      "\n",
      "brand model production_date\n",
      "----- ----- ---------------\n",
      "            01/01/0001 00:00:00\n",
      "\n"
     ]
    }
   ],
   "source": [
    "Write-Output $car"
   ]
  },
  {
   "cell_type": "code",
   "execution_count": 94,
   "metadata": {},
   "outputs": [
    {
     "name": "stdout",
     "output_type": "stream",
     "text": [
      "\n",
      "brand model production_date\n",
      "----- ----- ---------------\n",
      "            01/01/0001 00:00:00\n",
      "\n"
     ]
    }
   ],
   "source": [
    "New-Object -TypeName Car -OutVariable car1"
   ]
  },
  {
   "cell_type": "code",
   "execution_count": 95,
   "metadata": {},
   "outputs": [
    {
     "name": "stdout",
     "output_type": "stream",
     "text": [
      "\n",
      "brand model production_date\n",
      "----- ----- ---------------\n",
      "            01/01/0001 00:00:00\n",
      "\n"
     ]
    }
   ],
   "source": [
    "Write-Output $car1"
   ]
  },
  {
   "cell_type": "markdown",
   "metadata": {},
   "source": [
    "Filling property values"
   ]
  },
  {
   "cell_type": "code",
   "execution_count": 96,
   "metadata": {},
   "outputs": [
    {
     "name": "stdout",
     "output_type": "stream",
     "text": [
      "\n",
      "brand model production_date\n",
      "----- ----- ---------------\n",
      "BMW   2     03/20/2023 10:25:39\n",
      "\n"
     ]
    }
   ],
   "source": [
    "$car.brand = \"BMW\"\n",
    "$car.model = 2\n",
    "$car.production_date = (Get-Date).AddDays(-180)\n",
    "\n",
    "Write-Output $car"
   ]
  },
  {
   "cell_type": "markdown",
   "metadata": {},
   "source": [
    "What kind of object is this?"
   ]
  },
  {
   "cell_type": "code",
   "execution_count": 97,
   "metadata": {},
   "outputs": [
    {
     "name": "stdout",
     "output_type": "stream",
     "text": [
      "\n",
      "\n",
      "   TypeName: <f00b14c>.Car\n",
      "\n",
      "Name            MemberType Definition\n",
      "----            ---------- ----------\n",
      "Equals          Method     bool Equals(System.Object obj)\n",
      "GetHashCode     Method     int GetHashCode()\n",
      "GetType         Method     type GetType()\n",
      "ToString        Method     string ToString()\n",
      "brand           Property   string brand {get;set;}\n",
      "model           Property   string model {get;set;}\n",
      "production_date Property   datetime production_date {get;set;}\n",
      "\n"
     ]
    }
   ],
   "source": [
    "$car | Get-Member"
   ]
  },
  {
   "cell_type": "markdown",
   "metadata": {},
   "source": [
    "- properties are not strongly typed by default"
   ]
  },
  {
   "cell_type": "code",
   "execution_count": 98,
   "metadata": {},
   "outputs": [
    {
     "name": "stdout",
     "output_type": "stream",
     "text": []
    }
   ],
   "source": [
    "Class Car {\n",
    "    [string]$brand\n",
    "    [string]$model\n",
    "    $production_date\n",
    "}"
   ]
  },
  {
   "cell_type": "code",
   "execution_count": 100,
   "metadata": {},
   "outputs": [
    {
     "name": "stdout",
     "output_type": "stream",
     "text": [
      "\n",
      "brand model production_date\n",
      "----- ----- ---------------\n",
      "            \n",
      "\n"
     ]
    }
   ],
   "source": [
    "$car = [car]::new()\n",
    "$car"
   ]
  },
  {
   "cell_type": "code",
   "execution_count": 101,
   "metadata": {},
   "outputs": [
    {
     "name": "stdout",
     "output_type": "stream",
     "text": []
    }
   ],
   "source": [
    "$car.production_date = \"1 Mai Zwanzigzweiundzwanzig\""
   ]
  },
  {
   "cell_type": "code",
   "execution_count": 102,
   "metadata": {},
   "outputs": [
    {
     "name": "stdout",
     "output_type": "stream",
     "text": [
      "1 Mai Zwanzigzweiundzwanzig\n"
     ]
    }
   ],
   "source": [
    "$car.production_date"
   ]
  },
  {
   "cell_type": "markdown",
   "metadata": {},
   "source": [
    "- it is considered best practice to ALWAYS define a type!"
   ]
  },
  {
   "cell_type": "markdown",
   "metadata": {},
   "source": [
    "# Methods"
   ]
  },
  {
   "cell_type": "code",
   "execution_count": 103,
   "metadata": {},
   "outputs": [
    {
     "name": "stdout",
     "output_type": "stream",
     "text": []
    }
   ],
   "source": [
    "Class Car {\n",
    "    [string]$brand\n",
    "    [string]$model\n",
    "    [System.DateTime]$production_date\n",
    "\n",
    "    [int]getAgeinDays() {\n",
    "        $timespan = New-TimeSpan -Start $this.production_date -End (Get-Date)\n",
    "        return $timespan.Days\n",
    "    }\n",
    "\n",
    "    [void]hello () {\n",
    "        Write-Host \"hello!\"\n",
    "    }\n",
    "}"
   ]
  },
  {
   "cell_type": "markdown",
   "metadata": {},
   "source": [
    "- `return` statement is necessary if you are returning something!\n",
    "- other than functions, no return statement will result in no return\n",
    "- methods can be used to perform operations without the need to return a value - must be [void]\n",
    "- `$this` keyword to reference the current instance of an object"
   ]
  },
  {
   "cell_type": "code",
   "execution_count": 106,
   "metadata": {},
   "outputs": [
    {
     "name": "stdout",
     "output_type": "stream",
     "text": [
      "\n",
      "\n",
      "   TypeName: System.Int32\n",
      "\n",
      "Name        MemberType Definition\n",
      "----        ---------- ----------\n",
      "CompareTo   Method     int CompareTo(System.Object value), int CompareTo(int v…\n",
      "Equals      Method     bool Equals(System.Object obj), bool Equals(int obj), b…\n",
      "GetHashCode Method     int GetHashCode()\n",
      "GetType     Method     type GetType()\n",
      "GetTypeCode Method     System.TypeCode GetTypeCode(), System.TypeCode IConvert…\n",
      "ToBoolean   Method     bool IConvertible.ToBoolean(System.IFormatProvider prov…\n",
      "ToByte      Method     byte IConvertible.ToByte(System.IFormatProvider provide…\n",
      "ToChar      Method     char IConvertible.ToChar(System.IFormatProvider provide…\n",
      "ToDateTime  Method     datetime IConvertible.ToDateTime(System.IFormatProvider…\n",
      "ToDecimal   Method     decimal IConvertible.ToDecimal(System.IFormatProvider p…\n",
      "ToDouble    Method     double IConvertible.ToDouble(System.IFormatProvider pro…\n",
      "ToInt16     Method     short IConvertible.ToInt16(System.IFormatProvider provi…\n",
      "ToInt32     Method     int IConvertible.ToInt32(System.IFormatProvider provide…\n",
      "ToInt64     Method     long IConvertible.ToInt64(System.IFormatProvider provid…\n",
      "ToSByte     Method     sbyte IConvertible.ToSByte(System.IFormatProvider provi…\n",
      "ToSingle    Method     float IConvertible.ToSingle(System.IFormatProvider prov…\n",
      "ToString    Method     string ToString(), string ToString(string format), stri…\n",
      "ToType      Method     System.Object IConvertible.ToType(type conversionType, …\n",
      "ToUInt16    Method     ushort IConvertible.ToUInt16(System.IFormatProvider pro…\n",
      "ToUInt32    Method     uint IConvertible.ToUInt32(System.IFormatProvider provi…\n",
      "ToUInt64    Method     ulong IConvertible.ToUInt64(System.IFormatProvider prov…\n",
      "TryFormat   Method     bool TryFormat(System.Span[char] destination, [ref] int…\n",
      "\n",
      "   TypeName: System.String\n",
      "\n",
      "Name                 MemberType            Definition\n",
      "----                 ----------            ----------\n",
      "Clone                Method                System.Object Clone(), System.Objec…\n",
      "CompareTo            Method                int CompareTo(System.Object value),…\n",
      "Contains             Method                bool Contains(string value), bool C…\n",
      "CopyTo               Method                void CopyTo(int sourceIndex, char[]…\n",
      "EndsWith             Method                bool EndsWith(string value), bool E…\n",
      "EnumerateRunes       Method                System.Text.StringRuneEnumerator En…\n",
      "Equals               Method                bool Equals(System.Object obj), boo…\n",
      "GetEnumerator        Method                System.CharEnumerator GetEnumerator…\n",
      "GetHashCode          Method                int GetHashCode(), int GetHashCode(…\n",
      "GetPinnableReference Method                System.Char&, System.Private.CoreLi…\n",
      "GetType              Method                type GetType()\n",
      "GetTypeCode          Method                System.TypeCode GetTypeCode(), Syst…\n",
      "IndexOf              Method                int IndexOf(char value), int IndexO…\n",
      "IndexOfAny           Method                int IndexOfAny(char[] anyOf), int I…\n",
      "Insert               Method                string Insert(int startIndex, strin…\n",
      "IsNormalized         Method                bool IsNormalized(), bool IsNormali…\n",
      "LastIndexOf          Method                int LastIndexOf(char value), int La…\n",
      "LastIndexOfAny       Method                int LastIndexOfAny(char[] anyOf), i…\n",
      "Normalize            Method                string Normalize(), string Normaliz…\n",
      "PadLeft              Method                string PadLeft(int totalWidth), str…\n",
      "PadRight             Method                string PadRight(int totalWidth), st…\n",
      "Remove               Method                string Remove(int startIndex, int c…\n",
      "Replace              Method                string Replace(char oldChar, char n…\n",
      "Split                Method                string[] Split(char separator, Syst…\n",
      "StartsWith           Method                bool StartsWith(string value), bool…\n",
      "Substring            Method                string Substring(int startIndex), s…\n",
      "ToBoolean            Method                bool IConvertible.ToBoolean(System.…\n",
      "ToByte               Method                byte IConvertible.ToByte(System.IFo…\n",
      "ToChar               Method                char IConvertible.ToChar(System.IFo…\n",
      "ToCharArray          Method                char[] ToCharArray(), char[] ToChar…\n",
      "ToDateTime           Method                datetime IConvertible.ToDateTime(Sy…\n",
      "ToDecimal            Method                decimal IConvertible.ToDecimal(Syst…\n",
      "ToDouble             Method                double IConvertible.ToDouble(System…\n",
      "ToInt16              Method                short IConvertible.ToInt16(System.I…\n",
      "ToInt32              Method                int IConvertible.ToInt32(System.IFo…\n",
      "ToInt64              Method                long IConvertible.ToInt64(System.IF…\n",
      "ToLower              Method                string ToLower(), string ToLower(cu…\n",
      "ToLowerInvariant     Method                string ToLowerInvariant()\n",
      "ToSByte              Method                sbyte IConvertible.ToSByte(System.I…\n",
      "ToSingle             Method                float IConvertible.ToSingle(System.…\n",
      "ToString             Method                string ToString(), string ToString(…\n",
      "ToType               Method                System.Object IConvertible.ToType(t…\n",
      "ToUInt16             Method                ushort IConvertible.ToUInt16(System…\n",
      "ToUInt32             Method                uint IConvertible.ToUInt32(System.I…\n",
      "ToUInt64             Method                ulong IConvertible.ToUInt64(System.…\n",
      "ToUpper              Method                string ToUpper(), string ToUpper(cu…\n",
      "ToUpperInvariant     Method                string ToUpperInvariant()\n",
      "Trim                 Method                string Trim(), string Trim(char tri…\n",
      "TrimEnd              Method                string TrimEnd(), string TrimEnd(ch…\n",
      "TrimStart            Method                string TrimStart(), string TrimStar…\n",
      "Chars                ParameterizedProperty char Chars(int index) {get;}\n",
      "Length               Property              int Length {get;}\n",
      "\n"
     ]
    }
   ],
   "source": [
    "function Test-Function () {\n",
    "    Write-Output 1\n",
    "    return \"test\"\n",
    "}\n",
    "\n",
    "\n",
    "Test-Function | gm"
   ]
  },
  {
   "cell_type": "code",
   "execution_count": 107,
   "metadata": {},
   "outputs": [
    {
     "name": "stdout",
     "output_type": "stream",
     "text": []
    }
   ],
   "source": [
    "$car = [Car]::new()\n",
    "\n",
    "$car.brand = \"BMW\"\n",
    "$car.model = 2\n",
    "$car.production_date = (Get-Date).AddDays(-180)"
   ]
  },
  {
   "cell_type": "code",
   "execution_count": 108,
   "metadata": {},
   "outputs": [
    {
     "name": "stdout",
     "output_type": "stream",
     "text": [
      "\n",
      "brand model production_date\n",
      "----- ----- ---------------\n",
      "BMW   2     03/20/2023 10:31:47\n",
      "\n"
     ]
    }
   ],
   "source": [
    "Write-Output $car"
   ]
  },
  {
   "cell_type": "code",
   "execution_count": 109,
   "metadata": {},
   "outputs": [
    {
     "name": "stdout",
     "output_type": "stream",
     "text": [
      "180\n"
     ]
    }
   ],
   "source": [
    "$car.getAgeinDays()"
   ]
  },
  {
   "cell_type": "markdown",
   "metadata": {},
   "source": [
    "# Static"
   ]
  },
  {
   "cell_type": "markdown",
   "metadata": {},
   "source": [
    "- Properties and methods can be static\n",
    "- can be called on the object, no need to create an instance\n",
    "\n",
    "\n",
    "Properties:"
   ]
  },
  {
   "cell_type": "code",
   "execution_count": 111,
   "metadata": {},
   "outputs": [
    {
     "name": "stdout",
     "output_type": "stream",
     "text": []
    }
   ],
   "source": [
    "Class Car {\n",
    "    [string]$brand\n",
    "    [string]$model\n",
    "    [System.DateTime]$production_date\n",
    "    static [string]$type = \"Car\"\n",
    "\n",
    "    [int]getAgeinDays() {\n",
    "        $timespan = New-TimeSpan -Start $this.production_date -End (Get-Date)\n",
    "        return $timespan.Days\n",
    "    }\n",
    "}"
   ]
  },
  {
   "cell_type": "code",
   "execution_count": 112,
   "metadata": {},
   "outputs": [
    {
     "name": "stdout",
     "output_type": "stream",
     "text": [
      "Car\n"
     ]
    }
   ],
   "source": [
    "[Car]::type"
   ]
  },
  {
   "cell_type": "code",
   "execution_count": 113,
   "metadata": {},
   "outputs": [
    {
     "name": "stdout",
     "output_type": "stream",
     "text": [
      "\u001b[91mGet-Member: \n",
      "\u001b[96mLine |\n",
      "\u001b[96m   3 | \u001b[0m $car.type | \u001b[96mgm\u001b[0m\n",
      "\u001b[96m     | \u001b[91m             ~~\n",
      "\u001b[91m\u001b[96m     | \u001b[91mYou must specify an object for the Get-Member cmdlet.\u001b[0m\n"
     ]
    }
   ],
   "source": [
    "$car = [Car]::New()\n",
    "$car.type | gm"
   ]
  },
  {
   "cell_type": "markdown",
   "metadata": {},
   "source": [
    "- as soon as the object is instantiated, you can no longer access a static property"
   ]
  },
  {
   "cell_type": "markdown",
   "metadata": {},
   "source": [
    "Methods:"
   ]
  },
  {
   "cell_type": "code",
   "execution_count": 118,
   "metadata": {},
   "outputs": [
    {
     "name": "stdout",
     "output_type": "stream",
     "text": []
    }
   ],
   "source": [
    "Class Car {\n",
    "    [string]$brand\n",
    "    [string]$model\n",
    "    [System.DateTime]$production_date\n",
    "    static [string]$type = \"Car\"\n",
    "\n",
    "    [int]getAgeinDays() {\n",
    "        $timespan = New-TimeSpan -Start $this.production_date -End (Get-Date)\n",
    "        return $timespan.Days\n",
    "    }\n",
    "\n",
    "    static [void] GetCarInfos() {\n",
    "        $url = \"https://en.wikipedia.org/wiki/Car\"\n",
    "        Write-Host \"go to: \" $url\n",
    "    }\n",
    "\n",
    "    [string]GetCarInfosss() {\n",
    "        return $this.type\n",
    "    }\n",
    "}"
   ]
  },
  {
   "cell_type": "code",
   "execution_count": 115,
   "metadata": {},
   "outputs": [
    {
     "name": "stdout",
     "output_type": "stream",
     "text": [
      "go to:  https://en.wikipedia.org/wiki/Car\n"
     ]
    }
   ],
   "source": [
    "[Car]::GetCarInfos()"
   ]
  },
  {
   "cell_type": "code",
   "execution_count": 119,
   "metadata": {},
   "outputs": [
    {
     "name": "stdout",
     "output_type": "stream",
     "text": [
      "\n"
     ]
    }
   ],
   "source": [
    "$car = [Car]::new()\n",
    "\n",
    "$car.GetCarInfosss()"
   ]
  },
  {
   "cell_type": "markdown",
   "metadata": {},
   "source": [
    "- as soon as the object is instantiated, you can no longer access a static property"
   ]
  },
  {
   "cell_type": "markdown",
   "metadata": {},
   "source": [
    "# Constructor\n",
    "\n",
    "Instantiate objects with values.\n",
    "Instantiating calls a `method` with the same name as the `Class`"
   ]
  },
  {
   "cell_type": "code",
   "execution_count": 120,
   "metadata": {},
   "outputs": [
    {
     "name": "stdout",
     "output_type": "stream",
     "text": []
    }
   ],
   "source": [
    "Class Car {\n",
    "    [string]$brand\n",
    "    [string]$model\n",
    "    [System.DateTime]$production_date\n",
    "\n",
    "    Car([string]$brand, [string]$model, [System.DateTime]$production_date) {\n",
    "        $this.brand = $brand\n",
    "        $this.model = $model\n",
    "        $this.production_date = $production_date\n",
    "    }\n",
    "\n",
    "    [int]getAgeinDays() {\n",
    "        $timespan = New-TimeSpan -Start $this.production_date -End (Get-Date)\n",
    "        return $timespan.Days\n",
    "    }\n",
    "}"
   ]
  },
  {
   "cell_type": "code",
   "execution_count": 121,
   "metadata": {},
   "outputs": [
    {
     "name": "stdout",
     "output_type": "stream",
     "text": [
      "\n",
      "brand model production_date\n",
      "----- ----- ---------------\n",
      "BMW   230i  03/20/2023 10:35:57\n",
      "\n"
     ]
    }
   ],
   "source": [
    "$car = [Car]::new(\"BMW\", \"230i\", (Get-Date).AddDays(-180))\n",
    "Write-Output $car"
   ]
  },
  {
   "cell_type": "code",
   "execution_count": 123,
   "metadata": {},
   "outputs": [
    {
     "name": "stdout",
     "output_type": "stream",
     "text": [
      "\n",
      "brand model production_date\n",
      "----- ----- ---------------\n",
      "BMW   230i  03/20/2023 10:36:43\n",
      "\n"
     ]
    }
   ],
   "source": [
    "$car = New-Object -TypeName Car -ArgumentList \"BMW\", \"230i\", (Get-Date).AddDays(-180)\n",
    "Write-Output $car"
   ]
  },
  {
   "cell_type": "markdown",
   "metadata": {},
   "source": [
    "# Hidden"
   ]
  },
  {
   "cell_type": "code",
   "execution_count": 125,
   "metadata": {},
   "outputs": [
    {
     "name": "stdout",
     "output_type": "stream",
     "text": []
    }
   ],
   "source": [
    "Class Car {\n",
    "    [string]$brand\n",
    "    [string]$model\n",
    "    [System.DateTime]$production_date\n",
    "    hidden [string]$serial_number\n",
    "\n",
    "    Car([string]$brand, [string]$model, [System.DateTime]$production_date, $serial_number) {\n",
    "        $this.brand = $brand\n",
    "        $this.model = $model\n",
    "        $this.production_date = $production_date\n",
    "        $this.serial_number = $serial_number\n",
    "    }\n",
    "\n",
    "    [int]getAgeinDays() {\n",
    "        $timespan = New-TimeSpan -Start $this.production_date -End (Get-Date)\n",
    "        return $timespan.Days\n",
    "    }\n",
    "    \n",
    "    [string]getSerialNumber() {\n",
    "        return $this.serial_number\n",
    "    }\n",
    "}"
   ]
  },
  {
   "cell_type": "code",
   "execution_count": 126,
   "metadata": {},
   "outputs": [
    {
     "name": "stdout",
     "output_type": "stream",
     "text": [
      "\n",
      "brand model production_date\n",
      "----- ----- ---------------\n",
      "BMW   230i  03/20/2023 10:37:59\n",
      "\n"
     ]
    }
   ],
   "source": [
    "$car = New-Object -TypeName Car -ArgumentList @(\"BMW\", \"230i\", (Get-Date).AddDays(-180), \"SN1okasdhflk\")\n",
    "Write-Output $car"
   ]
  },
  {
   "cell_type": "code",
   "execution_count": 127,
   "metadata": {},
   "outputs": [
    {
     "name": "stdout",
     "output_type": "stream",
     "text": [
      "SN1okasdhflk\n"
     ]
    }
   ],
   "source": [
    "$car.getSerialNumber()"
   ]
  },
  {
   "cell_type": "code",
   "execution_count": 128,
   "metadata": {},
   "outputs": [
    {
     "name": "stdout",
     "output_type": "stream",
     "text": [
      "\n",
      "\n",
      "   TypeName: <48f9624c>.Car\n",
      "\n",
      "Name            MemberType Definition\n",
      "----            ---------- ----------\n",
      "Equals          Method     bool Equals(System.Object obj)\n",
      "getAgeinDays    Method     int getAgeinDays()\n",
      "GetHashCode     Method     int GetHashCode()\n",
      "getSerialNumber Method     string getSerialNumber()\n",
      "GetType         Method     type GetType()\n",
      "ToString        Method     string ToString()\n",
      "brand           Property   string brand {get;set;}\n",
      "model           Property   string model {get;set;}\n",
      "production_date Property   datetime production_date {get;set;}\n",
      "\n"
     ]
    }
   ],
   "source": [
    "$car | gm"
   ]
  },
  {
   "cell_type": "code",
   "execution_count": 129,
   "metadata": {},
   "outputs": [
    {
     "name": "stdout",
     "output_type": "stream",
     "text": [
      "\n",
      "\n",
      "   TypeName: <48f9624c>.Car\n",
      "\n",
      "Name                MemberType   Definition\n",
      "----                ----------   ----------\n",
      "pstypenames         CodeProperty System.Collections.ObjectModel.Collection`1[[…\n",
      "psadapted           MemberSet    psadapted {brand, model, production_date, get…\n",
      "psbase              MemberSet    psbase {brand, model, production_date, get_br…\n",
      "psextended          MemberSet    psextended {}\n",
      "psobject            MemberSet    psobject {BaseObject, Members, Properties, Me…\n",
      "Equals              Method       bool Equals(System.Object obj)\n",
      "getAgeinDays        Method       int getAgeinDays()\n",
      "GetHashCode         Method       int GetHashCode()\n",
      "getSerialNumber     Method       string getSerialNumber()\n",
      "GetType             Method       type GetType()\n",
      "get_brand           Method       string get_brand()\n",
      "get_model           Method       string get_model()\n",
      "get_production_date Method       datetime get_production_date()\n",
      "get_serial_number   Method       string get_serial_number()\n",
      "set_brand           Method       void set_brand(string )\n",
      "set_model           Method       void set_model(string )\n",
      "set_production_date Method       void set_production_date(datetime )\n",
      "set_serial_number   Method       void set_serial_number(string )\n",
      "ToString            Method       string ToString()\n",
      "brand               Property     string brand {get;set;}\n",
      "model               Property     string model {get;set;}\n",
      "production_date     Property     datetime production_date {get;set;}\n",
      "serial_number       Property     string serial_number {get;set;}\n",
      "\n"
     ]
    }
   ],
   "source": [
    "$car | gm -Force"
   ]
  },
  {
   "cell_type": "markdown",
   "metadata": {},
   "source": [
    "- Value can be shown regardless\n",
    "- Property is not private"
   ]
  },
  {
   "cell_type": "code",
   "execution_count": 130,
   "metadata": {},
   "outputs": [
    {
     "name": "stdout",
     "output_type": "stream",
     "text": [
      "SN1okasdhflk\n"
     ]
    }
   ],
   "source": [
    "$car.serial_number"
   ]
  },
  {
   "cell_type": "code",
   "execution_count": 131,
   "metadata": {},
   "outputs": [
    {
     "name": "stdout",
     "output_type": "stream",
     "text": []
    }
   ],
   "source": [
    "$car.serial_number = \"Bike\""
   ]
  },
  {
   "cell_type": "code",
   "execution_count": 132,
   "metadata": {},
   "outputs": [
    {
     "name": "stdout",
     "output_type": "stream",
     "text": [
      "Bike\n"
     ]
    }
   ],
   "source": [
    "$car.serial_number"
   ]
  },
  {
   "cell_type": "markdown",
   "metadata": {},
   "source": [
    "# Overload\n",
    "\n"
   ]
  },
  {
   "cell_type": "markdown",
   "metadata": {},
   "source": [
    "Add the same method multiple times, the `correct` one will be called based on the parameters."
   ]
  },
  {
   "cell_type": "code",
   "execution_count": 138,
   "metadata": {},
   "outputs": [
    {
     "name": "stdout",
     "output_type": "stream",
     "text": []
    }
   ],
   "source": [
    "class Calculator {\n",
    "    [int] Add([int]$a, [int]$b) {\n",
    "        return $a + $b\n",
    "    }\n",
    "\n",
    "    [int] Add([int]$a, [int]$b, [int]$c) {\n",
    "        return $a + $b + $c\n",
    "    }\n",
    "\n",
    "    [int] Add([int]$a, [int]$b, [int]$c, [int]$d) {\n",
    "        return $a + $b + $c + $d\n",
    "    }\n",
    "}"
   ]
  },
  {
   "cell_type": "code",
   "execution_count": 139,
   "metadata": {},
   "outputs": [
    {
     "name": "stdout",
     "output_type": "stream",
     "text": []
    }
   ],
   "source": [
    "$calc = [Calculator]::new()"
   ]
  },
  {
   "cell_type": "code",
   "execution_count": 135,
   "metadata": {},
   "outputs": [
    {
     "name": "stdout",
     "output_type": "stream",
     "text": [
      "5\n"
     ]
    }
   ],
   "source": [
    "$calc.Add(2, 3)"
   ]
  },
  {
   "cell_type": "code",
   "execution_count": 136,
   "metadata": {},
   "outputs": [
    {
     "name": "stdout",
     "output_type": "stream",
     "text": [
      "9\n"
     ]
    }
   ],
   "source": [
    "$calc.Add(2, 3, 4)"
   ]
  },
  {
   "cell_type": "code",
   "execution_count": 140,
   "metadata": {},
   "outputs": [
    {
     "name": "stdout",
     "output_type": "stream",
     "text": [
      "14\n"
     ]
    }
   ],
   "source": [
    "$calc.Add(2, 3, 4, 5)"
   ]
  },
  {
   "cell_type": "markdown",
   "metadata": {},
   "source": [
    "Can also be used for constructor to only instantiate some properties."
   ]
  },
  {
   "cell_type": "markdown",
   "metadata": {},
   "source": [
    "# Inheritance"
   ]
  },
  {
   "cell_type": "markdown",
   "metadata": {},
   "source": [
    "- hierarchy of classes\n",
    "- parent -> child -> child ...\n",
    "- inherit properties and methods to child classes"
   ]
  },
  {
   "cell_type": "code",
   "execution_count": 141,
   "metadata": {},
   "outputs": [
    {
     "name": "stdout",
     "output_type": "stream",
     "text": []
    }
   ],
   "source": [
    "Class Car {\n",
    "    [string]$brand\n",
    "    [string]$model\n",
    "\n",
    "    Car([string]$brand) {\n",
    "        $this.brand = $brand\n",
    "    }\n",
    "}\n",
    "\n",
    "class BMW : Car {\n",
    "    BMW([string]$model) : base(\"BMW\"){\n",
    "        $this.model = $model\n",
    "    }\n",
    "}\n",
    "\n",
    "class Mercedes : Car {\n",
    "    Mercedes([string]$model) : base(\"Mercedes\"){\n",
    "        $this.model = $model\n",
    "    }\n",
    "}\n",
    "\n",
    "class EClass : Mercedes {\n",
    "    EClass() : base(\"E-Class\"){\n",
    "        \n",
    "    }\n",
    "}"
   ]
  },
  {
   "cell_type": "code",
   "execution_count": 142,
   "metadata": {},
   "outputs": [
    {
     "name": "stdout",
     "output_type": "stream",
     "text": [
      "\n",
      "brand model\n",
      "----- -----\n",
      "BMW   \n",
      "\n"
     ]
    }
   ],
   "source": [
    "[Car]::new(\"BMW\")"
   ]
  },
  {
   "cell_type": "code",
   "execution_count": 143,
   "metadata": {},
   "outputs": [
    {
     "name": "stdout",
     "output_type": "stream",
     "text": [
      "\n",
      "brand model\n",
      "----- -----\n",
      "BMW   230i\n",
      "\n"
     ]
    }
   ],
   "source": [
    "[BMW]::new(\"230i\")"
   ]
  },
  {
   "cell_type": "code",
   "execution_count": 144,
   "metadata": {},
   "outputs": [
    {
     "name": "stdout",
     "output_type": "stream",
     "text": []
    }
   ],
   "source": [
    "$bmw = [BMW]::new(\"230i\")"
   ]
  },
  {
   "cell_type": "code",
   "execution_count": 145,
   "metadata": {},
   "outputs": [
    {
     "name": "stdout",
     "output_type": "stream",
     "text": [
      "\n",
      "IsPublic IsSerial Name                                     BaseType\n",
      "-------- -------- ----                                     --------\n",
      "True     False    BMW                                      <eb78167c>.Car\n",
      "\n"
     ]
    }
   ],
   "source": [
    "$bmw.gettype()"
   ]
  },
  {
   "cell_type": "code",
   "execution_count": 146,
   "metadata": {},
   "outputs": [
    {
     "name": "stdout",
     "output_type": "stream",
     "text": [
      "\n",
      "\n",
      "   TypeName: <eb78167c>.BMW\n",
      "\n",
      "Name        MemberType Definition\n",
      "----        ---------- ----------\n",
      "Equals      Method     bool Equals(System.Object obj)\n",
      "GetHashCode Method     int GetHashCode()\n",
      "GetType     Method     type GetType()\n",
      "ToString    Method     string ToString()\n",
      "brand       Property   string brand {get;set;}\n",
      "model       Property   string model {get;set;}\n",
      "\n"
     ]
    }
   ],
   "source": [
    "$bmw | Get-Member"
   ]
  },
  {
   "cell_type": "code",
   "execution_count": 147,
   "metadata": {},
   "outputs": [
    {
     "name": "stdout",
     "output_type": "stream",
     "text": [
      "\n",
      "BaseObject          : <eb78167c>.BMW\n",
      "Members             : {string brand {get;set;}, string model {get;set;}, get_br\n",
      "                      and, set_brand…}\n",
      "Properties          : {string brand {get;set;}, string model {get;set;}}\n",
      "Methods             : {get_brand, set_brand, get_model, set_model…}\n",
      "ImmediateBaseObject : <eb78167c>.BMW\n",
      "TypeNames           : {<eb78167c>.BMW, <eb78167c>.Car, System.Object}\n",
      "\n",
      "\n"
     ]
    }
   ],
   "source": [
    "$bmw.psobject"
   ]
  },
  {
   "cell_type": "code",
   "execution_count": 148,
   "metadata": {},
   "outputs": [
    {
     "name": "stdout",
     "output_type": "stream",
     "text": [
      "True\n"
     ]
    }
   ],
   "source": [
    "[EClass]::new() -is [Car]"
   ]
  },
  {
   "cell_type": "code",
   "execution_count": 150,
   "metadata": {},
   "outputs": [
    {
     "name": "stdout",
     "output_type": "stream",
     "text": [
      "True\n"
     ]
    }
   ],
   "source": [
    "[BMW]::new(\"230i\") -is [Car]"
   ]
  },
  {
   "cell_type": "code",
   "execution_count": 151,
   "metadata": {},
   "outputs": [
    {
     "name": "stdout",
     "output_type": "stream",
     "text": [
      "False\n"
     ]
    }
   ],
   "source": [
    "[Car]::new(\"Mercedes\") -is [EClass]"
   ]
  },
  {
   "cell_type": "code",
   "execution_count": 152,
   "metadata": {},
   "outputs": [
    {
     "name": "stdout",
     "output_type": "stream",
     "text": [
      "True\n"
     ]
    }
   ],
   "source": [
    "[Mercedes]::new(\"asd\") -is [Car]"
   ]
  },
  {
   "cell_type": "code",
   "execution_count": 153,
   "metadata": {},
   "outputs": [
    {
     "name": "stdout",
     "output_type": "stream",
     "text": [
      "False\n"
     ]
    }
   ],
   "source": [
    "[Mercedes]::new(\"asd\") -is [BMW]"
   ]
  },
  {
   "cell_type": "markdown",
   "metadata": {},
   "source": [
    "# Enum"
   ]
  },
  {
   "cell_type": "markdown",
   "metadata": {},
   "source": [
    "- Enumeration\n",
    "- `enum` keyword\n",
    "- defines a set of constant values that can be referenced"
   ]
  },
  {
   "cell_type": "code",
   "execution_count": 154,
   "metadata": {},
   "outputs": [
    {
     "name": "stdout",
     "output_type": "stream",
     "text": []
    }
   ],
   "source": [
    "enum Status {\n",
    "    Pending\n",
    "    Approved\n",
    "    Rejected\n",
    "    InProgress\n",
    "    Completed\n",
    "}"
   ]
  },
  {
   "cell_type": "code",
   "execution_count": 155,
   "metadata": {},
   "outputs": [
    {
     "name": "stdout",
     "output_type": "stream",
     "text": []
    }
   ],
   "source": [
    "class Task {\n",
    "    [Status]$TaskStatus\n",
    "\n",
    "    Task([Status]$status) {\n",
    "        $this.TaskStatus = $status\n",
    "    }\n",
    "}"
   ]
  },
  {
   "cell_type": "code",
   "execution_count": 156,
   "metadata": {},
   "outputs": [
    {
     "name": "stdout",
     "output_type": "stream",
     "text": [
      "\n",
      "TaskStatus\n",
      "----------\n",
      "  Approved\n",
      "\n"
     ]
    }
   ],
   "source": [
    "$task = [Task]::New([Status]::Approved)\n",
    "Write-Output $task"
   ]
  },
  {
   "cell_type": "code",
   "execution_count": 157,
   "metadata": {},
   "outputs": [
    {
     "name": "stdout",
     "output_type": "stream",
     "text": [
      "\n",
      "TaskStatus\n",
      "----------\n",
      "InProgress\n",
      "\n"
     ]
    }
   ],
   "source": [
    "$task.TaskStatus = [Status]::InProgress\n",
    "Write-Output $task\n"
   ]
  },
  {
   "cell_type": "code",
   "execution_count": 158,
   "metadata": {},
   "outputs": [
    {
     "name": "stdout",
     "output_type": "stream",
     "text": [
      "\u001b[91mSetValueInvocationException: \n",
      "\u001b[96mLine |\n",
      "\u001b[96m   2 | \u001b[0m \u001b[96m$task.TaskStatus = [Status]::NewStatus\u001b[0m\n",
      "\u001b[96m     | \u001b[91m ~~~~~~~~~~~~~~~~~~~~~~~~~~~~~~~~~~~~~~\n",
      "\u001b[91m\u001b[96m     | \u001b[91mException setting \"TaskStatus\": \"Cannot convert null to type \"<2875b6bf>.Status\" due to enumeration values that are not valid. Specify one of the following enumeration values and try again. The possible enumeration values are \"Pending,Approved,Rejected,InProgress,Completed\".\"\u001b[0m\n"
     ]
    }
   ],
   "source": [
    "$task.TaskStatus = [Status]::NewStatus"
   ]
  },
  {
   "cell_type": "code",
   "execution_count": 159,
   "metadata": {},
   "outputs": [
    {
     "name": "stdout",
     "output_type": "stream",
     "text": [
      "\n",
      "TaskStatus\n",
      "----------\n",
      "  Rejected\n",
      "\n"
     ]
    }
   ],
   "source": [
    "$task.TaskStatus = [Status]::Rejected\n",
    "Write-Output $task"
   ]
  },
  {
   "cell_type": "code",
   "execution_count": 162,
   "metadata": {},
   "outputs": [
    {
     "name": "stdout",
     "output_type": "stream",
     "text": [
      "\n",
      "TaskStatus\n",
      "----------\n",
      "InProgress\n",
      "\n"
     ]
    }
   ],
   "source": [
    "$task.TaskStatus = 'InProgress'\n",
    "Write-Output $task"
   ]
  },
  {
   "cell_type": "code",
   "execution_count": 163,
   "metadata": {},
   "outputs": [
    {
     "name": "stdout",
     "output_type": "stream",
     "text": [
      "\u001b[91mSetValueInvocationException: \n",
      "\u001b[96mLine |\n",
      "\u001b[96m   2 | \u001b[0m \u001b[96m$task.TaskStatus = 'InProgresssssssssss'\u001b[0m\n",
      "\u001b[96m     | \u001b[91m ~~~~~~~~~~~~~~~~~~~~~~~~~~~~~~~~~~~~~~~~\n",
      "\u001b[91m\u001b[96m     | \u001b[91mException setting \"TaskStatus\": \"Cannot convert value \"InProgresssssssssss\" to type \"<2875b6bf>.Status\". Error: \"Unable to match the identifier name InProgresssssssssss to a valid enumerator name. Specify one of the following enumerator names and try again:\n",
      "Pending, Approved, Rejected, InProgress, Completed\"\"\u001b[0m\n"
     ]
    }
   ],
   "source": [
    "$task.TaskStatus = 'InProgresssssssssss'"
   ]
  },
  {
   "cell_type": "markdown",
   "metadata": {},
   "source": [
    "## Lets look at another demo"
   ]
  },
  {
   "cell_type": "markdown",
   "metadata": {},
   "source": [
    "#### Logger"
   ]
  },
  {
   "cell_type": "code",
   "execution_count": 164,
   "metadata": {},
   "outputs": [
    {
     "name": "stdout",
     "output_type": "stream",
     "text": []
    }
   ],
   "source": [
    "enum LoggingType {\n",
    "    json\n",
    "    plain\n",
    "}\n",
    "\n",
    "Class Logger {\n",
    "    [string]$format = [LoggingType]::json\n",
    "    [string]$server\n",
    "    [array]$logger \n",
    "\n",
    "    logger ([LoggingType]$format) {\n",
    "        $this.format = $format\n",
    "    }\n",
    "\n",
    "    [void] connect($server) {\n",
    "        Write-Host \"Connected to server $server\"\n",
    "    }\n",
    "\n",
    "    [void] log ([string]$log) {\n",
    "        $time = Get-Date\n",
    "        $this.logger += [pscustomobject]@{\n",
    "            time = $time\n",
    "            log  = $log\n",
    "        }\n",
    "    }\n",
    "\n",
    "    [System.Collections.ArrayList] getLog() {\n",
    "        return $this.logger\n",
    "    }\n",
    "}"
   ]
  },
  {
   "cell_type": "code",
   "execution_count": 165,
   "metadata": {},
   "outputs": [
    {
     "name": "stdout",
     "output_type": "stream",
     "text": [
      "\n",
      "format server logger\n",
      "------ ------ ------\n",
      "json          \n",
      "\n"
     ]
    }
   ],
   "source": [
    "[Logger]::new([LoggingType]::json)"
   ]
  },
  {
   "cell_type": "code",
   "execution_count": 166,
   "metadata": {},
   "outputs": [
    {
     "name": "stdout",
     "output_type": "stream",
     "text": []
    }
   ],
   "source": [
    "$logger = [Logger]::new([LoggingType]::json)"
   ]
  },
  {
   "cell_type": "code",
   "execution_count": 167,
   "metadata": {},
   "outputs": [
    {
     "name": "stdout",
     "output_type": "stream",
     "text": [
      "Connected to server https://logger.com\n"
     ]
    }
   ],
   "source": [
    "$logger.connect(\"https://logger.com\")"
   ]
  },
  {
   "cell_type": "code",
   "execution_count": 171,
   "metadata": {},
   "outputs": [
    {
     "name": "stdout",
     "output_type": "stream",
     "text": []
    }
   ],
   "source": [
    "$logger.log(\"Ich bin ein Eintrag!\")"
   ]
  },
  {
   "cell_type": "code",
   "execution_count": 172,
   "metadata": {},
   "outputs": [
    {
     "name": "stdout",
     "output_type": "stream",
     "text": [
      "\n",
      "time                log\n",
      "----                ---\n",
      "09/16/2023 10:50:23 Ich bin ein Eintrag!\n",
      "09/16/2023 10:50:28 Ich bin ein Eintrag!\n",
      "09/16/2023 10:50:28 Ich bin ein Eintrag!\n",
      "\n"
     ]
    }
   ],
   "source": [
    "$logger.getLog()"
   ]
  },
  {
   "cell_type": "markdown",
   "metadata": {},
   "source": [
    "#### Typesafe Data Entry"
   ]
  },
  {
   "cell_type": "markdown",
   "metadata": {},
   "source": [
    "Connect to Database"
   ]
  },
  {
   "cell_type": "code",
   "execution_count": null,
   "metadata": {},
   "outputs": [],
   "source": [
    "Install-Module mdbc -Scope CurrentUser\n",
    "\n",
    "Connect-MDBC"
   ]
  },
  {
   "cell_type": "code",
   "execution_count": null,
   "metadata": {},
   "outputs": [],
   "source": [
    "enum Status {\n",
    "    Pending\n",
    "    Approved\n",
    "    Rejected\n",
    "    InProgress\n",
    "    Completed\n",
    "}\n",
    "\n",
    "class Task {\n",
    "    [String]$Name\n",
    "    [String]$Description\n",
    "    [Status]$Status\n",
    "\n",
    "    Task([string]$Name, [string]$Description, [Status]$Status) {\n",
    "        $this.Status = $status\n",
    "        $this.Name = $name\n",
    "        $this.Description = $description\n",
    "    }\n",
    "}"
   ]
  },
  {
   "cell_type": "markdown",
   "metadata": {},
   "source": [
    "- upsert data"
   ]
  },
  {
   "cell_type": "code",
   "execution_count": null,
   "metadata": {},
   "outputs": [],
   "source": [
    "$task = [Task]::New(\"Milch kaufen\", \"Milch ist alle!\", [Status]::Pending)\n",
    "\n",
    "$task | Add-MdbcData"
   ]
  },
  {
   "cell_type": "markdown",
   "metadata": {},
   "source": [
    "Modify data."
   ]
  },
  {
   "cell_type": "code",
   "execution_count": null,
   "metadata": {},
   "outputs": [],
   "source": []
  },
  {
   "cell_type": "code",
   "execution_count": null,
   "metadata": {},
   "outputs": [],
   "source": [
    "$task.TaskStatus = [Status]::InProgress\n",
    "$task | Set-MdbcData"
   ]
  },
  {
   "cell_type": "markdown",
   "metadata": {},
   "source": [
    "#### What else? Should we use it?"
   ]
  },
  {
   "cell_type": "markdown",
   "metadata": {},
   "source": [
    "- it depends\n",
    "- are you used to Classes already? maybe from another language -> yep\n",
    "- organize code and share it with others\n",
    "  - write SDK like classes and class modules\n",
    "- Compatibility with code older than PS v5? -> refactor anyway!\n",
    "- data migration scripts -> yep\n",
    "- rewrite all `[pscustomobjects]` - not necessary\n",
    "- \n",
    "\n",
    "#### Advantages\n",
    "\n",
    "1. Encapsulation\n",
    "2. Reusability\n",
    "3. Object-Oriented Programming (OOP)\n",
    "4. Consistency\n",
    "5. Inheritance\n",
    "\n",
    "#### Disadvantages\n",
    "\n",
    "1. Learning Curve\n",
    "2. Complexity\n",
    "3. Performance Overhead\n",
    "4. Verbose Syntax\n",
    "5. Compatibility\n",
    "\n",
    "I probably missed 100 things I just don't know about."
   ]
  },
  {
   "cell_type": "markdown",
   "metadata": {},
   "source": [
    "# Questions?"
   ]
  },
  {
   "cell_type": "markdown",
   "metadata": {},
   "source": [
    "# Thanks!"
   ]
  }
 ],
 "metadata": {
  "kernelspec": {
   "display_name": "PowerShell",
   "language": "powershell",
   "name": "powershell"
  },
  "language_info": {
   "codemirror_mode": "shell",
   "file_extension": ".ps1",
   "mimetype": "text/x-sh",
   "name": "powershell"
  }
 },
 "nbformat": 4,
 "nbformat_minor": 4
}
